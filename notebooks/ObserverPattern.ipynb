{
 "cells": [
  {
   "cell_type": "markdown",
   "metadata": {},
   "source": [
    "The Observer Pattern defines a one-to-many dependency between objects so that when one object changes state, all of its dependents are notified and updated automatically.\n",
    "\n",
    "When state of the one object changes, all of its dependents are notified.\n",
    "\n",
    "* Subject Object: Source Object - which get all notifications and then these are sent to its list of subscribers\n",
    "\n",
    "* Listner Object(s): One of many object who get notified of new updates by Subject Object.\n",
    "\n",
    "* (Un)Subscription: A way to add/remove a Listner to Subject Object's notifiers list.\n",
    "\n",
    "Advantages:\n",
    "\n",
    "* Loosely coupled design. Subject and Objects can be modified with out need to bother of implementations and other.\n",
    "\n",
    "\n",
    "__Kernal: Python3__"
   ]
  },
  {
   "cell_type": "code",
   "execution_count": 1,
   "metadata": {},
   "outputs": [],
   "source": [
    "import abc\n",
    "\n",
    "from typing import List, Set, Text"
   ]
  },
  {
   "cell_type": "code",
   "execution_count": 2,
   "metadata": {},
   "outputs": [],
   "source": [
    "class Observer(object):\n",
    "    __metaclass__ = abc.ABCMeta\n",
    "    \n",
    "    @abc.abstractmethod\n",
    "    def update(self, message):\n",
    "        \"Notifications receiver.\"\n",
    "\n",
    "class Subject(object):\n",
    "#     __metaclass__ = abc.ABCMeta\n",
    "    \n",
    "    def __init__(self):\n",
    "        self._observers = list()\n",
    "\n",
    "    def registerObserver(self, observer: Observer) -> None:\n",
    "        \"Add observer to the list.\"\n",
    "        if observer not in self._observers:\n",
    "            return self._observers.append(observer)\n",
    "\n",
    "    def unregisterObserver(self, observer: Observer) -> None:\n",
    "        \"To remove observer to the list.\"\n",
    "        return self._observers.remove(observer)\n",
    "\n",
    "#     @abc.abstractmethod\n",
    "    def notifyObserver(self, message: str) -> None:\n",
    "        \"Notify all the observers.\"\n",
    "        for obs in self._observers:\n",
    "            obs.update(message)\n",
    "\n"
   ]
  },
  {
   "cell_type": "markdown",
   "metadata": {},
   "source": [
    "## Use case\n",
    "\n",
    "* NewsSource: Source class for collecting news\n",
    "* NewsReader: Reader class for news reader"
   ]
  },
  {
   "cell_type": "code",
   "execution_count": 3,
   "metadata": {},
   "outputs": [],
   "source": [
    "class NewsReader(Observer):\n",
    "    def __init__(self, title='Reader'):\n",
    "        self.title = title\n",
    "    def update(self, message):\n",
    "        print('News Reader: {}'.format(self.title))\n",
    "        print('Message: {}'.format(str(message)))\n",
    "\n",
    "\n",
    "class NewsSource(Subject):\n",
    "     def registerObserver(self, observer: NewsReader):\n",
    "        assert isinstance(observer, NewsReader), \\\n",
    "            'input object is not instance of NewsReader Class'\n",
    "        super().registerObserver(observer)\n",
    "        print('Added a observer')\n",
    "    \n",
    "     def unregisterObserver(self, observer: NewsReader):\n",
    "        assert isinstance(observer, NewsReader), \\\n",
    "            'input object is not instance of NewsReader Class'\n",
    "        super().unregisterObserver(observer)\n",
    "        print('Removed a observer')"
   ]
  },
  {
   "cell_type": "code",
   "execution_count": 4,
   "metadata": {},
   "outputs": [],
   "source": [
    "tech_news = NewsSource()"
   ]
  },
  {
   "cell_type": "code",
   "execution_count": 5,
   "metadata": {},
   "outputs": [],
   "source": [
    "reader1 = NewsReader('Reader1')\n",
    "reader2 = NewsReader('Reader2')\n",
    "reader3 = NewsReader('Reader3')"
   ]
  },
  {
   "cell_type": "code",
   "execution_count": 6,
   "metadata": {},
   "outputs": [
    {
     "name": "stdout",
     "output_type": "stream",
     "text": [
      "Added a observer\n",
      "Added a observer\n"
     ]
    }
   ],
   "source": [
    "tech_news.registerObserver(reader1)\n",
    "tech_news.registerObserver(reader2)"
   ]
  },
  {
   "cell_type": "code",
   "execution_count": 7,
   "metadata": {},
   "outputs": [],
   "source": [
    "try:\n",
    "    tech_news.registerObserver('reader2') ## should fail\n",
    "    assert False, 'NewsSource should accept only NewsReader objects'\n",
    "except:\n",
    "    pass"
   ]
  },
  {
   "cell_type": "code",
   "execution_count": 8,
   "metadata": {},
   "outputs": [
    {
     "data": {
      "text/plain": [
       "[<__main__.NewsReader at 0x7f543f3846a0>,\n",
       " <__main__.NewsReader at 0x7f543f384470>]"
      ]
     },
     "execution_count": 8,
     "metadata": {},
     "output_type": "execute_result"
    }
   ],
   "source": [
    "tech_news._observers"
   ]
  },
  {
   "cell_type": "code",
   "execution_count": 9,
   "metadata": {},
   "outputs": [
    {
     "name": "stdout",
     "output_type": "stream",
     "text": [
      "News Reader: Reader1\n",
      "Message: helloworld\n",
      "News Reader: Reader2\n",
      "Message: helloworld\n"
     ]
    }
   ],
   "source": [
    "tech_news.notifyObserver('helloworld')"
   ]
  },
  {
   "cell_type": "code",
   "execution_count": 10,
   "metadata": {},
   "outputs": [
    {
     "name": "stdout",
     "output_type": "stream",
     "text": [
      "Added a observer\n",
      "Removed a observer\n"
     ]
    }
   ],
   "source": [
    "tech_news.registerObserver(reader3)\n",
    "tech_news.unregisterObserver(reader2)"
   ]
  },
  {
   "cell_type": "code",
   "execution_count": 11,
   "metadata": {},
   "outputs": [
    {
     "name": "stdout",
     "output_type": "stream",
     "text": [
      "News Reader: Reader1\n",
      "Message: helloworld\n",
      "News Reader: Reader3\n",
      "Message: helloworld\n"
     ]
    }
   ],
   "source": [
    "tech_news.notifyObserver('helloworld')"
   ]
  }
 ],
 "metadata": {
  "kernelspec": {
   "display_name": "Python 3",
   "language": "python",
   "name": "python3"
  },
  "language_info": {
   "codemirror_mode": {
    "name": "ipython",
    "version": 3
   },
   "file_extension": ".py",
   "mimetype": "text/x-python",
   "name": "python",
   "nbconvert_exporter": "python",
   "pygments_lexer": "ipython3",
   "version": "3.5.2"
  }
 },
 "nbformat": 4,
 "nbformat_minor": 2
}
