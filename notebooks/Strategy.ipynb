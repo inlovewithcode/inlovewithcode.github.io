{
 "cells": [
  {
   "cell_type": "code",
   "execution_count": 1,
   "metadata": {},
   "outputs": [],
   "source": [
    "import abc"
   ]
  },
  {
   "cell_type": "code",
   "execution_count": 2,
   "metadata": {},
   "outputs": [],
   "source": [
    "class Flying(object):\n",
    "    # interface that all flying classes should implement\n",
    "\n",
    "    __metaclass__ = abc.ABCMeta\n",
    "    \n",
    "    @abc.abstractmethod\n",
    "    def fly(self):\n",
    "        raise NotImplementedError('Fly behavior is not implemented')\n",
    "\n",
    "        \n",
    "class DoFly(Flying):\n",
    "    def fly(self):\n",
    "        print('Flying')\n",
    "\n",
    "\n",
    "class NoFly(Flying):\n",
    "    def fly(self):\n",
    "        print('No Flying!')"
   ]
  },
  {
   "cell_type": "code",
   "execution_count": 3,
   "metadata": {},
   "outputs": [],
   "source": [
    "class Quack:\n",
    "    # interface that all flying classes should implement\n",
    "    __metaclass__ = abc.ABCMeta\n",
    "    \n",
    "    @abc.abstractmethod\n",
    "    def quack():\n",
    "        raise NotImplementedError('Quack is not implemented')\n",
    "\n",
    "\n",
    "class QuackDucks(Quack):\n",
    "    def quack(self):\n",
    "        print('Quacking')\n",
    "\n",
    "\n",
    "class SqueakDucks(Quack):\n",
    "    def quack(self):\n",
    "        print('Squacking')\n",
    "\n",
    "\n",
    "class MuteDucks(Quack):\n",
    "    def quack(self):\n",
    "        print('Quacking')"
   ]
  },
  {
   "cell_type": "code",
   "execution_count": 4,
   "metadata": {},
   "outputs": [],
   "source": [
    "class Duck:\n",
    "    __metaclass__ = abc.ABCMeta\n",
    "\n",
    "    def __init__(self):\n",
    "        self._fly = Flying()\n",
    "        self._quack = Quack()\n",
    "    \n",
    "    def fly(self):\n",
    "        self._fly.fly()\n",
    "    \n",
    "    def quack(self):\n",
    "        self._quack.quack()\n",
    "\n",
    "class MallardDuck(Duck):\n",
    "    def __init__(self):\n",
    "        self._fly = DoFly()\n",
    "        self._quack = QuackDucks()\n"
   ]
  },
  {
   "cell_type": "code",
   "execution_count": 5,
   "metadata": {},
   "outputs": [],
   "source": [
    "m = MallardDuck()"
   ]
  },
  {
   "cell_type": "code",
   "execution_count": 6,
   "metadata": {},
   "outputs": [
    {
     "name": "stdout",
     "output_type": "stream",
     "text": [
      "Flying\n"
     ]
    }
   ],
   "source": [
    "m.fly()"
   ]
  },
  {
   "cell_type": "code",
   "execution_count": 7,
   "metadata": {},
   "outputs": [
    {
     "name": "stdout",
     "output_type": "stream",
     "text": [
      "Quacking\n"
     ]
    }
   ],
   "source": [
    "m.quack()"
   ]
  },
  {
   "cell_type": "code",
   "execution_count": 10,
   "metadata": {},
   "outputs": [],
   "source": [
    "class ram(Flying):\n",
    "    pass\n",
    "\n",
    "r = ram()"
   ]
  },
  {
   "cell_type": "code",
   "execution_count": null,
   "metadata": {},
   "outputs": [],
   "source": []
  }
 ],
 "metadata": {
  "kernelspec": {
   "display_name": "Python 2",
   "language": "python",
   "name": "python2"
  },
  "language_info": {
   "codemirror_mode": {
    "name": "ipython",
    "version": 2
   },
   "file_extension": ".py",
   "mimetype": "text/x-python",
   "name": "python",
   "nbconvert_exporter": "python",
   "pygments_lexer": "ipython2",
   "version": "2.7.15"
  }
 },
 "nbformat": 4,
 "nbformat_minor": 2
}
