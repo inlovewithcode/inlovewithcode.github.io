{
 "cells": [
  {
   "cell_type": "markdown",
   "metadata": {},
   "source": [
    "# Python protocol orianted language"
   ]
  },
  {
   "cell_type": "code",
   "execution_count": 3,
   "metadata": {},
   "outputs": [
    {
     "name": "stdout",
     "output_type": "stream",
     "text": [
      "Collecting tkinter\n",
      "\u001b[31m  Could not find a version that satisfies the requirement tkinter (from versions: )\u001b[0m\n",
      "\u001b[31mNo matching distribution found for tkinter\u001b[0m\n",
      "\u001b[33mYou are using pip version 9.0.3, however version 18.0 is available.\n",
      "You should consider upgrading via the 'pip install --upgrade pip' command.\u001b[0m\n"
     ]
    }
   ],
   "source": [
    "!pip install tkinter"
   ]
  },
  {
   "cell_type": "code",
   "execution_count": 6,
   "metadata": {},
   "outputs": [],
   "source": [
    "class Polynoimial:\n",
    "    pass\n",
    "\n",
    "p1 = Polynoimial()\n",
    "p2 = Polynoimial()\n",
    "\n",
    "p1.coeffs = 1, 2, 3\n",
    "p2.coeffs = 3, 4, 5"
   ]
  },
  {
   "cell_type": "code",
   "execution_count": 8,
   "metadata": {},
   "outputs": [
    {
     "name": "stdout",
     "output_type": "stream",
     "text": [
      "<__main__.Polynoimial object at 0x7f9aecd235f8> <__main__.Polynoimial object at 0x7f9aecd23630>\n"
     ]
    }
   ],
   "source": [
    "class Polynoimial:\n",
    "    def __init__(self, *coeffs):\n",
    "        self.coeffs = coeffs\n",
    "\n",
    "p1 = Polynoimial(1, 2, 3)\n",
    "p2 = Polynoimial(3, 4, 5)\n",
    "print(p1, p2)"
   ]
  },
  {
   "cell_type": "code",
   "execution_count": 16,
   "metadata": {},
   "outputs": [
    {
     "name": "stdout",
     "output_type": "stream",
     "text": [
      "Polynoimial(1, 2, 3) Polynoimial(3, 4, 5)\n"
     ]
    }
   ],
   "source": [
    "class Polynoimial:\n",
    "    def __init__(self, *coeffs):\n",
    "        self.coeffs = coeffs\n",
    "    def __repr__(self):\n",
    "        return 'Polynoimial{}'.format(self.coeffs)\n",
    "\n",
    "p1 = Polynoimial(1, 2, 3)\n",
    "p2 = Polynoimial(3, 4, 5)\n",
    "print(p1, p2)"
   ]
  },
  {
   "cell_type": "code",
   "execution_count": 21,
   "metadata": {},
   "outputs": [
    {
     "name": "stdout",
     "output_type": "stream",
     "text": [
      "Polynoimial(1, 2, 3) Polynoimial(3, 4, 5)\n"
     ]
    }
   ],
   "source": [
    "class Polynoimial:\n",
    "    def __init__(self, *coeffs):\n",
    "        self.coeffs = coeffs\n",
    "    def __repr__(self):\n",
    "        return 'Polynoimial{}'.format(self.coeffs)\n",
    "    def __call__(self, x):\n",
    "        return sum(range(x))\n",
    "    \n",
    "p1 = Polynoimial(1, 2, 3)\n",
    "p2 = Polynoimial(3, 4, 5)\n",
    "print(p1, p2)"
   ]
  },
  {
   "cell_type": "code",
   "execution_count": 22,
   "metadata": {},
   "outputs": [],
   "source": [
    "# builit in inheritance\n",
    "# caviats around how python works"
   ]
  },
  {
   "cell_type": "code",
   "execution_count": 23,
   "metadata": {},
   "outputs": [
    {
     "data": {
      "text/plain": [
       "66"
      ]
     },
     "execution_count": 23,
     "metadata": {},
     "output_type": "execute_result"
    }
   ],
   "source": [
    "p1(12)"
   ]
  },
  {
   "cell_type": "code",
   "execution_count": 25,
   "metadata": {},
   "outputs": [],
   "source": [
    "# mess with built ints\n",
    "#@ https://youtu.be/7lmCu8wz8ro?t=2068"
   ]
  },
  {
   "cell_type": "code",
   "execution_count": null,
   "metadata": {},
   "outputs": [],
   "source": []
  }
 ],
 "metadata": {
  "kernelspec": {
   "display_name": "Python 3",
   "language": "python",
   "name": "python3"
  },
  "language_info": {
   "codemirror_mode": {
    "name": "ipython",
    "version": 3
   },
   "file_extension": ".py",
   "mimetype": "text/x-python",
   "name": "python",
   "nbconvert_exporter": "python",
   "pygments_lexer": "ipython3",
   "version": "3.5.2"
  }
 },
 "nbformat": 4,
 "nbformat_minor": 2
}
